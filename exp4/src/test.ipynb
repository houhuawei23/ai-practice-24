{
 "cells": [
  {
   "cell_type": "code",
   "execution_count": 1,
   "metadata": {},
   "outputs": [],
   "source": [
    "from configs import load_config, CONFIG_FILE"
   ]
  },
  {
   "cell_type": "code",
   "execution_count": 2,
   "metadata": {},
   "outputs": [],
   "source": [
    "config = load_config(CONFIG_FILE)"
   ]
  },
  {
   "cell_type": "code",
   "execution_count": 3,
   "metadata": {},
   "outputs": [
    {
     "data": {
      "text/plain": [
       "{'label': [{'color': '#000000', 'name': '__background__'},\n",
       "  {'color': '#ef2929', 'name': 'person'},\n",
       "  {'color': '#fcaf3e', 'name': 'knife'},\n",
       "  {'color': '#fce94f', 'name': 'fork'},\n",
       "  {'color': '#8ae234', 'name': 'cup'},\n",
       "  {'color': '#729fcf', 'name': 'giraffe'},\n",
       "  {'color': '#ad7fa8', 'name': 'plate'},\n",
       "  {'color': '#e9b96e', 'name': 'table'},\n",
       "  {'color': '#a40000', 'name': 'cake'},\n",
       "  {'color': '#5c3566', 'name': 'fence'},\n",
       "  {'color': '#204a87', 'name': 'hat'}]}"
      ]
     },
     "execution_count": 3,
     "metadata": {},
     "output_type": "execute_result"
    }
   ],
   "source": [
    "config"
   ]
  }
 ],
 "metadata": {
  "kernelspec": {
   "display_name": "ai24",
   "language": "python",
   "name": "python3"
  },
  "language_info": {
   "codemirror_mode": {
    "name": "ipython",
    "version": 3
   },
   "file_extension": ".py",
   "mimetype": "text/x-python",
   "name": "python",
   "nbconvert_exporter": "python",
   "pygments_lexer": "ipython3",
   "version": "3.12.7"
  }
 },
 "nbformat": 4,
 "nbformat_minor": 2
}
