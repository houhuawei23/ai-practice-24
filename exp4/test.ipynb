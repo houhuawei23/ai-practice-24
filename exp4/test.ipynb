{
 "cells": [
  {
   "cell_type": "code",
   "execution_count": null,
   "metadata": {},
   "outputs": [],
   "source": [
    "from segment_anything import SamPredictor, sam_model_registry\n",
    "# help=\"The type of model to load, in ['default', 'vit_h', 'vit_l', 'vit_b']\",\n"
   ]
  },
  {
   "cell_type": "code",
   "execution_count": null,
   "metadata": {},
   "outputs": [],
   "source": [
    "sam = sam_model_registry[\"vit_b\"](checkpoint=\"./reps/sam_vit_b_01ec64.pth\")\n",
    "predictor = SamPredictor(sam)\n",
    "import cv2\n",
    "img = cv2.imread(\"notebook2.png\")\n",
    "predictor.set_image(img)\n",
    "masks, _, _ = predictor.predict()"
   ]
  },
  {
   "cell_type": "code",
   "execution_count": null,
   "metadata": {},
   "outputs": [],
   "source": [
    "masks"
   ]
  },
  {
   "cell_type": "code",
   "execution_count": 6,
   "metadata": {},
   "outputs": [],
   "source": [
    "from segment_anything import SamAutomaticMaskGenerator, sam_model_registry\n",
    "sam = sam_model_registry[\"vit_b\"](checkpoint=\"./reps/sam_vit_b_01ec64.pth\")\n",
    "mask_generator = SamAutomaticMaskGenerator(sam)\n",
    "masks = mask_generator.generate(img)"
   ]
  },
  {
   "cell_type": "code",
   "execution_count": 44,
   "metadata": {},
   "outputs": [
    {
     "data": {
      "text/plain": [
       "((872, 1300, 3), (872, 1300), 197277)"
      ]
     },
     "execution_count": 44,
     "metadata": {},
     "output_type": "execute_result"
    }
   ],
   "source": [
    "img.shape, mask['segmentation'].shape, mask['area']"
   ]
  },
  {
   "cell_type": "code",
   "execution_count": 45,
   "metadata": {},
   "outputs": [
    {
     "data": {
      "text/plain": [
       "[0, 0, 1300, 872]"
      ]
     },
     "execution_count": 45,
     "metadata": {},
     "output_type": "execute_result"
    }
   ],
   "source": [
    "type(masks)\n",
    "mask = masks[0]\n",
    "# dict_keys(['segmentation', 'area', 'bbox', 'predicted_iou', 'point_coords', 'stability_score', 'crop_box'])\n",
    "mask.keys()\n",
    "# json.dump(masks, open('masks.json', 'w'))\n",
    "mask[\"segmentation\"].shape  # same to the original image size\n",
    "mask[\"area\"]  # area of the mask\n",
    "mask[\"bbox\"]  # [x, y, w, h] of the bounding box of the mask\n",
    "# predicted iou of the mask with the ground truth mask, iou: intersection over union\n",
    "mask[\"predicted_iou\"]\n",
    "mask[\"point_coords\"]  # [x, y] coordinates of the points used to generate the mask\n",
    "mask[\"stability_score\"]  # stability score of the mask, higher is more stable\n",
    "mask[\"crop_box\"]  # [x, y, w, h] of the crop used to generate the mask"
   ]
  },
  {
   "cell_type": "code",
   "execution_count": null,
   "metadata": {},
   "outputs": [],
   "source": [
    "import json\n",
    "import os"
   ]
  },
  {
   "cell_type": "code",
   "execution_count": 10,
   "metadata": {},
   "outputs": [
    {
     "name": "stdout",
     "output_type": "stream",
     "text": [
      "{'info': {'description': 'ISAT', 'folder': '/home/hhw/Desktop/ai24/exp2/dataset1/images', 'name': '1130369873.jpg', 'width': 500, 'height': 333, 'depth': 3, 'note': ''}, 'objects': [{'category': 'ball', 'group': 2, 'segmentation': [[212.0, 196.0], [212.0, 199.0], [213.0, 204.0], [215.0, 207.0], [219.0, 211.0], [221.0, 212.0], [227.0, 213.0], [243.0, 213.0], [247.0, 212.0], [251.0, 210.0], [254.0, 204.0], [256.0, 198.0], [255.0, 194.0], [248.0, 194.0], [242.0, 192.0], [231.0, 192.0], [228.0, 194.0], [223.0, 195.0], [214.0, 195.0]], 'area': 750.0, 'layer': 1.0, 'bbox': [211.5, 191.5, 256.4850712500727, 213.5], 'iscrowd': False, 'note': ''}, {'category': 'dog', 'group': 3, 'segmentation': [[212.0, 243.0], [210.0, 242.0], [206.0, 242.0], [205.0, 241.0], [202.0, 241.0], [190.0, 242.0], [184.0, 245.0], [182.0, 243.0], [180.0, 243.0], [179.0, 246.0], [180.0, 248.0], [175.0, 254.0], [176.0, 257.0], [178.0, 257.0], [182.0, 261.0], [183.0, 263.0], [183.0, 264.0], [184.0, 266.0], [192.0, 274.0], [194.0, 275.0], [200.0, 272.0], [203.0, 271.0], [207.0, 271.0], [209.0, 270.0], [217.0, 264.0], [219.0, 260.0], [219.0, 256.0], [217.0, 250.0], [216.0, 248.0], [214.0, 245.0]], 'area': 1043.0, 'layer': 2.0, 'bbox': [174.52565835097474, 240.5, 219.5, 275.44721359549993], 'iscrowd': False, 'note': ''}, {'category': 'dog', 'group': 3, 'segmentation': [[208.0, 117.0], [200.0, 125.0], [194.0, 133.0], [189.0, 138.0], [183.0, 141.0], [179.0, 155.0], [179.0, 160.0], [181.0, 164.0], [181.0, 168.0], [178.0, 176.0], [175.0, 180.0], [172.0, 190.0], [170.0, 192.0], [169.0, 195.0], [170.0, 201.0], [174.0, 203.0], [180.0, 209.0], [181.0, 215.0], [168.0, 215.0], [166.0, 216.0], [157.0, 226.0], [153.0, 232.0], [155.0, 239.0], [157.0, 243.0], [160.0, 245.0], [162.0, 243.0], [163.0, 240.0], [170.0, 233.0], [180.0, 227.0], [185.0, 222.0], [186.0, 218.0], [188.0, 218.0], [194.0, 221.0], [204.0, 220.0], [206.0, 223.0], [209.0, 224.0], [212.0, 227.0], [217.0, 226.0], [220.0, 229.0], [227.0, 232.0], [228.0, 235.0], [227.0, 238.0], [230.0, 239.0], [231.0, 237.0], [230.0, 235.0], [237.0, 233.0], [240.0, 234.0], [239.0, 237.0], [242.0, 238.0], [241.0, 241.0], [238.0, 242.0], [239.0, 245.0], [243.0, 248.0], [244.0, 253.0], [253.0, 253.0], [257.0, 251.0], [262.0, 252.0], [264.0, 254.0], [264.0, 257.0], [261.0, 259.0], [259.0, 262.0], [263.0, 269.0], [266.0, 271.0], [268.0, 271.0], [270.0, 270.0], [270.0, 266.0], [274.0, 259.0], [274.0, 227.0], [272.0, 224.0], [272.0, 220.0], [270.0, 219.0], [272.0, 215.0], [271.0, 213.0], [275.0, 208.0], [272.0, 205.0], [273.0, 202.0], [272.0, 196.0], [274.0, 194.0], [277.0, 195.0], [280.0, 199.0], [284.0, 200.0], [286.0, 202.0], [287.0, 207.0], [289.0, 210.0], [297.0, 216.0], [307.0, 220.0], [312.0, 219.0], [312.0, 215.0], [305.0, 208.0], [300.0, 199.0], [295.0, 186.0], [296.0, 170.0], [295.0, 161.0], [290.0, 143.0], [288.0, 141.0], [285.0, 140.0], [263.0, 117.0], [257.0, 114.0], [252.0, 113.0], [216.0, 113.0]], 'area': 13247.0, 'layer': 3.0, 'bbox': [152.51923802617958, 112.5, 312.5, 271.5], 'iscrowd': False, 'note': ''}]}\n"
     ]
    }
   ],
   "source": [
    "with open('test.json', 'r') as f:\n",
    "    data = json.load(f)\n",
    "print(data)"
   ]
  },
  {
   "cell_type": "code",
   "execution_count": 23,
   "metadata": {},
   "outputs": [
    {
     "data": {
      "text/plain": [
       "[211.5, 191.5, 256.4850712500727, 213.5]"
      ]
     },
     "execution_count": 23,
     "metadata": {},
     "output_type": "execute_result"
    }
   ],
   "source": [
    "# data['info'], data['objects']\n",
    "# data['info']\n",
    "len(data[\"objects\"])\n",
    "# data[\"objects\"]: list of objects, each object is a dictionary with keys:\n",
    "# dict_keys(['category', 'group', 'segmentation', 'area', 'layer', 'bbox', 'iscrowd', 'note'])\n",
    "data[\"objects\"][0].keys()\n",
    "obj = data[\"objects\"][0]\n",
    "# obj['segmentation']\n",
    "obj['bbox']"
   ]
  }
 ],
 "metadata": {
  "kernelspec": {
   "display_name": "ai24",
   "language": "python",
   "name": "python3"
  },
  "language_info": {
   "codemirror_mode": {
    "name": "ipython",
    "version": 3
   },
   "file_extension": ".py",
   "mimetype": "text/x-python",
   "name": "python",
   "nbconvert_exporter": "python",
   "pygments_lexer": "ipython3",
   "version": "3.12.7"
  }
 },
 "nbformat": 4,
 "nbformat_minor": 2
}
